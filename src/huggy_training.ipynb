{
  "cells": [
    {
      "cell_type": "markdown",
      "metadata": {
        "id": "0sNnuAEtPZGO"
      },
      "source": [
        "# Huggy Training Center"
      ]
    },
    {
      "cell_type": "markdown",
      "metadata": {
        "id": "fRbm4HqhOgQB"
      },
      "source": [
        "## Configuring the virtual machine"
      ]
    },
    {
      "cell_type": "code",
      "execution_count": null,
      "metadata": {
        "id": "sJnsMiGYEoba"
      },
      "outputs": [],
      "source": [
        "import os\n",
        "import uuid"
      ]
    },
    {
      "cell_type": "code",
      "execution_count": null,
      "metadata": {
        "id": "8pcnP0mrOlmM"
      },
      "outputs": [],
      "source": [
        "%%capture\n",
        "# Installing ml-agents\n",
        "!cd\n",
        "!git clone --depth 1 https://github.com/Unity-Technologies/ml-agents\n",
        "%cd ml-agents\n",
        "!pip3 install -e ./ml-agents-envs\n",
        "!pip3 install -e ./ml-agents\n",
        "!cd .."
      ]
    },
    {
      "cell_type": "code",
      "execution_count": null,
      "metadata": {
        "id": "WzRkFy7wOzEs"
      },
      "outputs": [],
      "source": [
        "%%capture\n",
        "# Downloading the Huggy environment\n",
        "!mkdir ./trained-envs-executables\n",
        "!mkdir ./trained-envs-executables/linux\n",
        "!gdown --id 1zv3M95ZJTWHUVOWT6ckq_cm98nft8gdF -O './trained-envs-executables/linux/Huggy.zip'\n",
        "!unzip -d ./trained-envs-executables/linux/ ./trained-envs-executables/linux/Huggy.zip\n",
        "!chmod -R 755 ./trained-envs-executables/linux/Huggy"
      ]
    },
    {
      "cell_type": "markdown",
      "metadata": {
        "id": "B5NHutmsPRCd"
      },
      "source": [
        "## Configuration of the filepaths"
      ]
    },
    {
      "cell_type": "markdown",
      "source": [
        "We created this notebook such that we can connect it to a drive file system in order to load configuration files and save the training output. If one runs this notebook as a demo, we recommend leaving `USE_DRIVE_FILESYSTEM = False. This will let the training to run locally on this virutal machine. The training will however be lost when the machine is shut down."
      ],
      "metadata": {
        "id": "b8L8FzRV3Qnp"
      }
    },
    {
      "cell_type": "code",
      "source": [
        "USE_DRIVE_FILESYSTEM = False\n",
        "WORKING_PATH = None"
      ],
      "metadata": {
        "id": "k5B6OOmVqISr"
      },
      "execution_count": null,
      "outputs": []
    },
    {
      "cell_type": "code",
      "source": [
        "if USE_DRIVE_FILESYSTEM:\n",
        "  from google.colab import drive\n",
        "  drive.mount('/content/drive/MyDrive/deep_learning')\n",
        "\n",
        "  if os.path.exists(\"/content/drive/MyDrive/deep_learning\"):\n",
        "    DRIVE_PATH = \"/content/drive/MyDrive/deep_learning\"\n",
        "  elif os.path.exists(\"/content/drive/MyDrive/shared/deep_learning\"):\n",
        "    DRIVE_PATH = \"/content/drive/MyDrive/shared/deep_learning\"\n",
        "  else:\n",
        "    DRIVE_PATH = None\n",
        "    raise Warning(\"Drive filepath not found\")\n",
        "    print(\"Drive filepath not found, data will be saved on the virtual machine\")\n",
        "  WORKING_PATH = DRIVE_PATH\n",
        "\n",
        "# If no result path previously indicated, defaulting to saving data on the virutal machine\n",
        "if WORKING_PATH is None:\n",
        "  os.system(\"mkdir working_directory\")\n",
        "  os.system(\"mkdir working_directory/training_output\")\n",
        "  os.system(\"mkdir working_directory/training_output/OK\")\n",
        "  os.system(\"mkdir working_directory/training_output/KO\")\n",
        "  os.system(\"mkdir working_directory/configuration_files\")\n",
        "  os.system(\"mkdir working_directory/configuration_files/training\")\n",
        "  os.system(\"mkdir working_directory/configuration_files/to_train\")\n",
        "  os.system(\"mkdir working_directory/configuration_files/done_training\")\n",
        "\n",
        "  WORKING_PATH = \"working_directory\"\n",
        "\n",
        "\n",
        "print(f\"Working path: {WORKING_PATH}\")"
      ],
      "metadata": {
        "id": "WFrf8pqn-J8S"
      },
      "execution_count": null,
      "outputs": []
    },
    {
      "cell_type": "markdown",
      "source": [
        "## Loading a baseline PPO training configuration file from the internet into our working directory\n",
        "\n",
        "This training configuration file has a standard configuration but with only 20000 steps for demonstration purposes (training should take less than a minute).\n",
        "\n",
        "One can skip this step and load their own configuration file to `[WORKING_PATH]/configuration_files/to_train` instead."
      ],
      "metadata": {
        "id": "yeG_jKQktAAI"
      }
    },
    {
      "cell_type": "code",
      "execution_count": null,
      "metadata": {
        "id": "Pnye3qz0Fe91"
      },
      "outputs": [],
      "source": [
        "%%capture\n",
        "os.system(f\"gdown --id 1gOHrXTM_fVQKUrKAmlCCvtW2g07pUHB_ -O '{WORKING_PATH}/configuration_files/to_train/ppo_baseline_short.yaml'\")"
      ]
    },
    {
      "cell_type": "markdown",
      "metadata": {
        "id": "yq_F5q9GPgRm"
      },
      "source": [
        "## Seting up training routine"
      ]
    },
    {
      "cell_type": "code",
      "execution_count": null,
      "metadata": {
        "id": "IionY15WKns4"
      },
      "outputs": [],
      "source": [
        "def train_huggy(\n",
        "    configuration_filename,\n",
        "    configuration_filepath=f\"{WORKING_PATH}/configuration_files\",\n",
        "    environment=\"./trained-envs-executables/linux/Huggy/Huggy\",\n",
        "    output_folder=f\"{WORKING_PATH}/training_output\",\n",
        "    move_configuration=True,\n",
        "    ):\n",
        "\n",
        "  # Generating a unique id for the training\n",
        "  training_id = f\"{configuration_filename[:-5]}_{uuid.uuid4().hex}\"\n",
        "\n",
        "  print(f\"Running training: {training_id}\")\n",
        "\n",
        "  # Starting up the training\n",
        "  if move_configuration:\n",
        "    os.system(f\"cp {configuration_filepath}/to_train/{configuration_filename} {configuration_filepath}/training/\")\n",
        "\n",
        "  run_ml_agents_command = f'mlagents-learn \"{configuration_filepath}/to_train/{configuration_filename}\" --env=\"{environment}\" --run-id=\"{training_id}\" --results-dir \"{output_folder}/OK\" --no-graphics'\n",
        "\n",
        "  print(\"mlagent-learn command\", run_ml_agents_command)\n",
        "\n",
        "  # Start training\n",
        "  is_training_OK = False\n",
        "  try:\n",
        "     train_command_output = os.system(run_ml_agents_command)\n",
        "     is_training_OK = True\n",
        "  except Exception as e:\n",
        "    print(f\"Error while training\\nid: {training_id}\\nerror:\\n{e}\")\n",
        "\n",
        "  # Save the output data to the relevant folder:\n",
        "  if is_training_OK:\n",
        "\n",
        "    if move_configuration:\n",
        "      os.system(f\"mv {configuration_filepath}/training/{configuration_filename} {configuration_filepath}/done_training/\")\n",
        "      os.system(f\"rm {configuration_filepath}/to_train/{configuration_filename} {configuration_filepath}/training/\")\n",
        "\n",
        "\n",
        "    os.system(f\"echo '{train_command_output}' >> '{output_folder}/OK/{training_id}/training_log.txt'\")\n",
        "    print(f\"Successfuly ran training. Saved output to {output_folder}/{training_id}\")\n",
        "  else:\n",
        "    os.system(f\"cp -r './results/{training_id}' '{output_folder}/KO'\")\n",
        "    if move_configuration:\n",
        "      os.system(f\"mv {configuration_filepath}/training/{configuration_filename} {configuration_filepath}/to_train/\")\n",
        "      os.system(f\"rm {configuration_filepath}/to_train/{configuration_filename} {configuration_filepath}/training/\")\n",
        "\n",
        "  return training_id\n"
      ]
    },
    {
      "cell_type": "markdown",
      "source": [
        "## Loading the configuration file and starting the training"
      ],
      "metadata": {
        "id": "mf8xjo2euxp1"
      }
    },
    {
      "cell_type": "code",
      "execution_count": null,
      "metadata": {
        "id": "GnyK3RDARJps"
      },
      "outputs": [],
      "source": [
        "training_configurations = os.listdir(f\"{WORKING_PATH}/configuration_files/to_train\")\n",
        "\n",
        "if len(training_configurations) > 0:\n",
        "  current_configuration = training_configurations.pop()\n",
        "  print(current_configuration)\n",
        "else:\n",
        "  print(\"no configuration file found\")"
      ]
    },
    {
      "cell_type": "code",
      "execution_count": null,
      "metadata": {
        "id": "xYtjdhCARji_"
      },
      "outputs": [],
      "source": [
        "training_id = train_huggy(current_configuration, move_configuration=True)"
      ]
    },
    {
      "cell_type": "markdown",
      "source": [
        "## Looking at the training output:"
      ],
      "metadata": {
        "id": "w8NVkilW0bbV"
      }
    },
    {
      "cell_type": "code",
      "source": [
        "!ls working_directory/training_output/OK\n"
      ],
      "metadata": {
        "id": "OrzbC9rC1Pyw"
      },
      "execution_count": null,
      "outputs": []
    },
    {
      "cell_type": "code",
      "source": [
        "os.listdir(f\"{WORKING_PATH}/training_output/OK/{training_id}\")"
      ],
      "metadata": {
        "id": "Oc8y2aWQyxAJ"
      },
      "execution_count": null,
      "outputs": []
    },
    {
      "cell_type": "markdown",
      "source": [
        "This shows the output directory. It contains logs, the configuration file used, as well as the Huggy.onnx model file. Our training has been successful. It is now possible to load the .onnx model into the Huggy Unity environment to test out our model. Alternatively, we can look at the logs to see how the training went. This can be done using tensorboard:"
      ],
      "metadata": {
        "id": "hXc6Q5ms_fIA"
      }
    },
    {
      "cell_type": "code",
      "source": [
        "%load_ext tensorboard\n",
        "%tensorboard --logdir working_directory/training_output/OK/"
      ],
      "metadata": {
        "id": "rZB_eu_y7UgZ"
      },
      "execution_count": null,
      "outputs": []
    },
    {
      "cell_type": "code",
      "source": [],
      "metadata": {
        "id": "_Z21oS2l9JbE"
      },
      "execution_count": null,
      "outputs": []
    }
  ],
  "metadata": {
    "accelerator": "GPU",
    "colab": {
      "provenance": []
    },
    "kernelspec": {
      "display_name": "Python 3",
      "name": "python3"
    },
    "language_info": {
      "name": "python"
    }
  },
  "nbformat": 4,
  "nbformat_minor": 0
}